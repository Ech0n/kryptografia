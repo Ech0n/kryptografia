{
 "cells": [
  {
   "cell_type": "markdown",
   "metadata": {},
   "source": [
    "# Lista 1 (8 pkt.)"
   ]
  },
  {
   "cell_type": "code",
   "execution_count": 20,
   "metadata": {},
   "outputs": [],
   "source": [
    "import string\n",
    "import matplotlib.pyplot as plt\n",
    "import numpy as np"
   ]
  },
  {
   "cell_type": "markdown",
   "metadata": {},
   "source": [
    "## Zadanie 1 (1 pkt.)"
   ]
  },
  {
   "cell_type": "markdown",
   "metadata": {},
   "source": [
    "Zaimplementuj szyfr Cezara. Napisz funkcję **Cezar(tekst, klucz)** tak aby jako argumenty przyjmowała tekst do zaszyfrowania oraz klucz a zwracała zaszyfrowany tekst. Funkcja ta dostając jako argumenty zaszyfrowany tekst oraz **-klucz** (klucz, ktorym zaszyfrowano tekst ze znakiem minus) będzie zwracała odszyfrowany tekst. Funkcja powinna przejść testy, czyli powinna 8 razy zwrócić **True**.\n",
    "\n",
    "Pamiętaj o polskich znakach. Szyfrujemy tylko litery, natomiast cyfry, znaki interpunkcyjne i białe znaki zostają bez zmian. Wielkie litery po zaszyfrowaniu są również wielkie. Użyj poniższego alfabetu."
   ]
  },
  {
   "cell_type": "code",
   "execution_count": 17,
   "metadata": {},
   "outputs": [],
   "source": [
    "alfabet = ['a','ą', 'b', 'c', 'ć', 'd', 'e', 'ę', 'f', 'g', 'h', 'i', 'j', 'k', 'l', 'ł', 'm', \n",
    "           'n', 'ń', 'o','ó', 'p', 'q','r', 's', 'ś', 't', 'u','v', 'w', 'x','y', 'z','ź','ż']"
   ]
  },
  {
   "cell_type": "markdown",
   "metadata": {},
   "source": [
    "Przy implementacji mogą być przydatne takie elementy biblioteki string jak: **string.punctuation, string.whitespace, string.digits, upper(), lower(), isupper()**"
   ]
  },
  {
   "cell_type": "code",
   "execution_count": 35,
   "metadata": {},
   "outputs": [],
   "source": [
    "def Cezar(tekst,klucz) -> str:\n",
    "    result = \"\"\n",
    "    n = len(alfabet)\n",
    "    for c in tekst:\n",
    "        if c in string.digits or c in string.whitespace or c in string.punctuation:\n",
    "            result += c\n",
    "            continue\n",
    "        upperCase = False\n",
    "        lc = c\n",
    "        if c.isupper():\n",
    "            upperCase = True\n",
    "            lc = c.lower()\n",
    "        if lc not in alfabet:\n",
    "            result += c\n",
    "            continue\n",
    "        nc = alfabet[(alfabet.index(lc) + klucz) % n]\n",
    "        if upperCase:\n",
    "            nc = nc.upper()\n",
    "        result += nc\n",
    "    return result"
   ]
  },
  {
   "cell_type": "code",
   "execution_count": 37,
   "metadata": {},
   "outputs": [
    {
     "name": "stdout",
     "output_type": "stream",
     "text": [
      "True\n",
      "True\n",
      "True\n",
      "True\n",
      "True\n",
      "True\n",
      "True\n",
      "True\n"
     ]
    }
   ],
   "source": [
    "print(Cezar('Ala ma kota.',3)=='Cnc oc mqwc.')\n",
    "print(Cezar('Ala ma kota.',20)=='Óżó ąó źćió.')\n",
    "print(Cezar('Ala ma 2 koty.',5)=='Dod pd 2 ńsyą.')\n",
    "print(Cezar('Daremne żale, próżny trud,\\nBezsilne złorzeczenia!\\nPrzeżytych kształtów żaden cud\\nNie wróci do istnienia.',7)\n",
    "                  =='Jęxkrsk eępk, vxuesc źxżj,\\nGkćyńpsk ćqtxćkhćksńę!\\nVxćkecźchn óyćźęqźuą eęjks hżj\\nSńk ąxuhń jt ńyźsńksńę.')\n",
    "print(Cezar('Cnc oc mqwc.',-3)=='Ala ma kota.')\n",
    "print(Cezar('Óżó ąó źćió.',-20)=='Ala ma kota.')\n",
    "print(Cezar('Dod pd 2 ńsyą.',-5)=='Ala ma 2 koty.')\n",
    "print(Cezar('Jęxkrsk eępk, vxuesc źxżj,\\nGkćyńpsk ćqtxćkhćksńę!\\nVxćkecźchn óyćźęqźuą eęjks hżj\\nSńk ąxuhń jt ńyźsńksńę.',-7)\n",
    "                  =='Daremne żale, próżny trud,\\nBezsilne złorzeczenia!\\nPrzeżytych kształtów żaden cud\\nNie wróci do istnienia.')"
   ]
  },
  {
   "cell_type": "markdown",
   "metadata": {},
   "source": [
    "## Zadanie 2 (1 pkt.)"
   ]
  },
  {
   "cell_type": "markdown",
   "metadata": {},
   "source": [
    "Wiedząc, że poniższy tekst zaszyfrowano metodą Cezara, odszyfruj go metodą \"brute force\". Co to za cytat?"
   ]
  },
  {
   "cell_type": "code",
   "execution_count": 38,
   "metadata": {},
   "outputs": [],
   "source": [
    "tekst = 'Hćcrek okyź hćęy? Okzpń sńóź rsńk t źt sńk vcźę, ąńkr. Okzpń vcźęofhkrż żyńqżol ącźqżręhćci, sńk ąńkr.'"
   ]
  },
  {
   "cell_type": "code",
   "execution_count": 40,
   "metadata": {},
   "outputs": [
    {
     "name": "stdout",
     "output_type": "stream",
     "text": [
      "0: Hćcrek okyź hćęy? Okzpń sńóź rsńk t źt sńk vcźę, ąńkr. Okzpń vcźęofhkrż żyńqżol ącźqżręhćci, sńk ąńkr.\n",
      "1: Gcbqdj ńjxz gcex? Ńjyón rnoz qrnj ś zś rnj ubze, anjq. Ńjyón ubzeńęgjqź źxnpźńk abzpźqegcbh, rnj anjq.\n",
      "2: Fbąpći niwy fbdw? Nixom qmńy pqmi s ys qmi tąyd, żmip. Nixom tąydnefipz zwmóznj żąyózpdfbąg, qmi żmip.\n",
      "3: Ęąaóch mhvx ęąćv? Mhwńł płnx ópłh r xr płh śaxć, źłhó. Mhwńł śaxćmdęhóy yvłoymi źaxoyóćęąaf, płh źłhó.\n",
      "4: Eażobg łguw eacu? Łgvnl ólmw oólg q wq ólg sżwc, zlgo. Łgvnl sżwcłćegox xulńxłh zżwńxoceażę, ólg zlgo.\n",
      "5: Dżźńąf lftv dżbt? Lfumk okłv ńokf p vp okf rźvb, ykfń. Lfumk rźvblcdfńw wtknwlg yźvnwńbdżźe, okf ykfń.\n",
      "6: Ćźznaę kęśu ćźąś? Kętłj ńjlu nńję ó uó ńję qzuą, xjęn. Kętłj qzuąkbćęnv vśjmvkf xzumvnąćźzd, ńję xjęn.\n",
      "7: Czymże jest czas? Jeśli nikt mnie o to nie pyta, wiem. Jeśli pytającemu usiłuję wytłumaczyć, nie wiem.\n",
      "8: Byxłźd idrś byżr? Idskh mhjś łmhd ń śń mhd óxśż, vhdł. Idskh óxśżiabdłt trhltie vxśltłżbyxc, mhd vhdł.\n",
      "9: Ąxwlzć hćqs ąxźq? Hćrjg łgis lłgć n sn łgć owsź, ugćl. Hćrjg owsźhżąćlś śqgkśhd uwskślźąxwb, łgć ugćl.\n",
      "10: Awvkyc gcpr awzp? Gcqif lfhr klfc m rm lfc ńvrz, tfck. Gcqif ńvrzgźacks spfjsgć tvrjskzawvą, lfc tfck.\n",
      "11: Żvujxb fbóq żvyó? Fbphę kęgq jkęb ł qł kęb nuqy, śębj. Fbphę nuqyfzżbjr róęirfc śuqirjyżvua, kęb śębj.\n",
      "12: Źutiwą ęąop źuxo? Ęąóge jefp ijeą l pl jeą mtpx, seąi. Ęąóge mtpxęyźąiq qoehqęb stphqixźutż, jeą seąi.\n",
      "13: Ztśhva eańó ztwń? Eaofd idęó hida k ók ida łśów, rdah. Eaofd łśówexzahp pńdgpeą rśógphwztśź, ida rdah.\n",
      "14: Yśsguż dżno yśvn? Dżńęć hćeo ghćż j oj hćż lsov, qćżg. Dżńęć lsovdwyżgó ónćfóda qsofógvyśsz, hćż qćżg.\n",
      "15: Xsrftź ćźmń xsum? Ćźnec gcdń fgcź i ńi gcź krńu, pcźf. Ćźnec krńućvxźfo omcęoćż prńęofuxsry, gcź pcźf.\n",
      "16: Wrqęśz człn wrtł? Czmdb fbćn ęfbz h nh fbz jqnt, óbzę. Czmdb jqntcuwzęń ńłbeńcź óqneńętwrqx, fbz óbzę.\n",
      "17: Vqpesy bylm vqśl? Byłćą ęącm eęąy g mg ęąy ipmś, oąye. Byłćą ipmśbtvyen nlądnbz opmdneśvqpw, ęąy oąye.\n",
      "18: Upódrx ąxkł upsk? Ąxlca eabł deax f łf eax hółs, ńaxd. Ąxlca hółsąśuxdm mkaćmąy ńółćmdsupóv, eax ńaxd.\n",
      "19: Tóoćqw awjl tórj? Awkbż dżąl ćdżw ę lę dżw golr, nżwć. Awkbż golrastwćł łjżcłax nolcłćrtóou, dżw nżwć.\n",
      "20: Śońcpv żvik śoqi? Żvjąź ćźak cćźv e ke ćźv fńkq, mźvc. Żvjąź fńkqżrśvcl liźblżw mńkblcqśońt, ćźv mźvc.\n",
      "21: Sńnbóu źuhj sńph? Źuiaz czżj bczu d jd czu ęnjp, łzub. Źuiaz ęnjpźqsubk khząkźv łnjąkbpsńnś, czu łzub.\n",
      "22: Rnmąot ztgi rnóg? Zthży byźi ąbyt ć ić byt emió, lytą. Zthży emiózprtąj jgyajzu lmiająórnms, byt lytą.\n",
      "23: Qmłańś yśfh qmof? Yśgźx ąxzh aąxś c hc ąxś dłho, kxśa. Yśgźx dłhoyóqśai ifxżiyt kłhżiaoqmłr, ąxś kxśa.\n",
      "24: Płlżns xsęg płńę? Xsfzw awyg żaws b gb aws ćlgń, jwsż. Xsfzw ćlgńxopsżh hęwźhxś jlgźhżńpłlq, aws jwsż.\n",
      "25: Ólkźmr wref ólne? Wręyv żvxf źżvr ą fą żvr ckfn, ivrź. Wręyv ckfnwńórźg gevzgws ikfzgźnólkp, żvr ivrź.\n",
      "26: Okjzłq vqdę okmd? Vqexu źuwę zźuq a ęa źuq bjęm, huqz. Vqexu bjęmvnoqzf fduyfvr hjęyfzmokjó, źuq huqz.\n",
      "27: Ńjiylp upće ńjłć? Updwt ztve yztp ż eż ztp ąieł, gtpy. Updwt ąiełumńpyę ęćtxęuq giexęyłńjio, ztp gtpy.\n",
      "28: Nihxkó tócd nilc? Tóćvś yśud xyśó ź dź yśó ahdl, fśóx. Tóćvś ahdltłnóxe ecśwetp fhdwexlnihń, yśó fśóx.\n",
      "29: Mhgwjo śobć mhkb? Śocus xstć wxso z ćz xso żgćk, ęsow. Śocus żgćkślmowd dbsvdśó ęgćvdwkmhgn, xso ęsow.\n",
      "30: Łgfviń sńąc łgją? Sńbtr wrśc vwrń y cy wrń źfcj, erńv. Sńbtr źfcjskłńvć ćąrućso efcućvjłgfm, wrń erńv.\n",
      "31: Lfęuhn rnab lfia? Rnąśq vqsb uvqn x bx vqn zębi, dqnu. Rnąśq zębirjlnuc caqtcrń dębtcuilfęł, vqn dqnu.\n",
      "32: Kęetgm qmżą kęhż? Qmasp uprą tupm w ąw upm yeąh, ćpmt. Qmasp yeąhqikmtb bżpśbqn ćeąśbthkęel, upm ćpmt.\n",
      "33: Jedśfł płźa jegź? Płżró tóqa śtół v av tół xdag, cółś. Płżró xdagphjłśą ąźósąpm cdasąśgjedk, tół cółś.\n",
      "34: Idćsęl ólzż idfz? Ólźqo śopż sśol u żu śol wćżf, bols. Ólźqo wćżfógilsa azoraół bćżrasfidćj, śol bols.\n"
     ]
    }
   ],
   "source": [
    "\n",
    "for klucz in range(len(alfabet)):\n",
    "    decoded = Cezar(tekst, -klucz)\n",
    "    print(f\"{klucz}: {decoded}\")\n"
   ]
  },
  {
   "cell_type": "markdown",
   "metadata": {},
   "source": [
    "### Poprawny tekst jest dla klucza = 7.\n",
    "\"Czymże jest czas? Jeśli nikt mnie o to nie pyta, wiem. Jeśli pytającemu usiłuję wytłumaczyć, nie wiem.\""
   ]
  },
  {
   "cell_type": "markdown",
   "metadata": {},
   "source": [
    "## Zadanie 3 (2 pkt.)"
   ]
  },
  {
   "cell_type": "markdown",
   "metadata": {},
   "source": [
    "Plik **'ksiazka1.txt'** zawiera tekst pewnej książki zaszyfrowany metodą Cezara. Dokonaj analizy statystycznej liter i na tej podstawie znajdź klucz oraz odszyfruj tekst. Jaka to książka?\n",
    "\n",
    "Do wczytania pliku możesz użyć poniższego kodu."
   ]
  },
  {
   "cell_type": "code",
   "execution_count": 142,
   "metadata": {},
   "outputs": [],
   "source": [
    "plik=open('ksiazka1.txt', encoding='utf8')\n",
    "ksiazka=plik.read()\n",
    "plik.close()"
   ]
  },
  {
   "cell_type": "markdown",
   "metadata": {},
   "source": [
    "Słownik **czestoliwosc** zawiera częstotliwości występowania liter w języku polskim."
   ]
  },
  {
   "cell_type": "code",
   "execution_count": 42,
   "metadata": {},
   "outputs": [],
   "source": [
    "czestotliwosc = {'a':0.0891,'ą':0.0099, 'b':0.0147, 'c':0.0396, 'ć':0.004, 'd':0.0325, 'e':0.0766, 'ę':0.0111, 'f':0.003, \n",
    "                 'g':0.0142, 'h':0.0108, 'i':0.0821, 'j':0.0228, 'k':0.0351, 'l':0.021, 'ł':0.0182,'m':0.028, 'n':0.0552, \n",
    "                 'ń':0.002, 'o':0.0775,'ó':0.0085, 'p':0.0313, 'q':0.0014, 'r':0.0469, 's':0.0432,'ś':0.0066, 't':0.0398,\n",
    "                 'u':0.025, 'v': 0.0004, 'w':0.0465 ,'x':0.0002,'y':0.0376, 'z':0.0564,'ź':0.0006,'ż':0.0083}"
   ]
  },
  {
   "cell_type": "code",
   "execution_count": 11,
   "metadata": {},
   "outputs": [
    {
     "data": {
      "text/plain": [
       "<BarContainer object of 35 artists>"
      ]
     },
     "execution_count": 11,
     "metadata": {},
     "output_type": "execute_result"
    },
    {
     "data": {
      "image/png": "[encoded data removed]",
      "text/plain": [
       "<Figure size 432x288 with 1 Axes>"
      ]
     },
     "metadata": {
      "needs_background": "light"
     },
     "output_type": "display_data"
    }
   ],
   "source": [
    "plt.bar(czestotliwosc.keys(),czestotliwosc.values())"
   ]
  },
  {
   "cell_type": "code",
   "execution_count": 125,
   "metadata": {},
   "outputs": [],
   "source": [
    "count_letters = dict.fromkeys(alfabet,0)\n",
    "for c in ksiazka.lower():\n",
    "    if c in alfabet:\n",
    "        count_letters[c] += 1\n",
    "letters_in_language = sorted(czestotliwosc.items(), key=lambda x: x[1], reverse=True)\n",
    "nc = sorted(count_letters.items(), key=lambda x: x[1],reverse=True)\n",
    "idx_book = alfabet.index(nc[0][0])\n",
    "idx_language = alfabet.index(letters_in_language[0][0])\n",
    "klucz = (idx_book-idx_language) % len(alfabet)\n",
    "decoded = Cezar(ksiazka, -klucz)"
   ]
  },
  {
   "cell_type": "code",
   "execution_count": 126,
   "metadata": {},
   "outputs": [
    {
     "name": "stdout",
     "output_type": "stream",
     "text": [
      "Łfd A\n",
      "\n",
      "\n",
      "\n",
      "Ńkłyh\n",
      "\n",
      "Ń hgćefuef-ńkużfwead bśuax Szjóba cxró Xźahł, fąupópes esąkłsjkpxą uóńacapsuąa ń lńaxuax. Hjpxw łjpxds, upłxjxds, s esńxł hayuafds łókaśusda csł, baxwó ń ljfwbfńxą Xmjfhax fwpasea ń kmjfńx kbgjó tsjtsjpóęuó bjóca kay hf ąskbaeasuż, Xźahł - ąmr hfkaswsć ńókfbś fjźseapsuąy khfćxupeś, jfceaułńf, jpxdafkćs a całxjsłmjy. Eswx ńkpókłbf psl ńóbfeóńsć fctjpódax hjsux aeróeaxjkbax a ńpefkać bfcfkscex tmwfńcx, błgjóuż kpupśłba tmwpś hfwpań ń łxużeabsuż efńfrółeóuż.\n",
      "\n",
      "Xźahł - ąxkł łf rópeó ńśńgp daywpó hmkłóeaś Cataąkbś a Sjstkbś. Źćytfbflv ąxźf ńóefka bacbskxł dxłjgń, wćmźflv kłf łjpówpaxlua dac, ljxweas kpxjfbflv pscxwńf dacy. Fw psużfwm - ćsźfwex, scx esźax ńpźgjps cataąkbax, fw ńkużfwm kłjfdx a hfhybsex kbsćó sjstkbax kś luasesda łxźf bfjółsjps, błgjxźf wexd hćóeax jpxbs - Eac.\n",
      "\n",
      "P taxźaxd jpxba, es hgćefu, luaseó ńśńfpm pearsąś kay, s ń fwcxźćflua wńmwpaxkłm hayuam dac fw Dfjps Ljgwpaxdexźf esźcx jfpużfwpś kay, a Eac, psdaskł hćóeśv uaskeód bfjółsjpxd, jfpcxńs kay bacbfds jsdaf\n"
     ]
    }
   ],
   "source": [
    "print(decoded[:1000])"
   ]
  },
  {
   "cell_type": "code",
   "execution_count": 143,
   "metadata": {},
   "outputs": [],
   "source": [
    "from numpy.linalg import norm\n",
    "\n",
    "def calc_freq(text):\n",
    "    d = dict().fromkeys(alfabet,0)\n",
    "    for c in text:\n",
    "        lc = c.lower()\n",
    "        if lc in alfabet:\n",
    "            d[lc] +=1\n",
    "    suma = sum(d.values())\n",
    "    for c in d.keys():\n",
    "        d[c] = d[c]/suma\n",
    "    return d\n",
    "\n",
    "max_sim = 0\n",
    "key = None\n",
    "for key_char in nc[:5]:\n",
    "    decoded_text = Cezar(ksiazka, -alfabet.index(key_char[0]))\n",
    "    freq = calc_freq(decoded_text)\n",
    "    freq_org = np.array(list(freq.values()), dtype=float)\n",
    "    freq2 = np.array(list(czestotliwosc.values()), dtype=float)\n",
    "\n",
    "    sim = np.dot(freq_org, freq2) / (np.linalg.norm(freq_org) * np.linalg.norm(freq2))\n",
    "    if sim > max_sim:\n",
    "        max_sim = sim\n",
    "        key = alfabet.index(key_char[0])\n",
    "decoded_text = Cezar(ksiazka, -key)"
   ]
  },
  {
   "cell_type": "code",
   "execution_count": 146,
   "metadata": {},
   "outputs": [
    {
     "name": "stdout",
     "output_type": "stream",
     "text": [
      "Tom I\n",
      "\n",
      "\n",
      "\n",
      "Wstęp\n",
      "\n",
      "W północno-wschodnim kącie Afryki leży Egipt, ojczyzna najstarszej cywilizacji w świecie. Przed trzema, czterema, a nawet pięcioma tysiącami lat, kiedy w środkowej Europie odziani w surowe skóry barbarzyńcy kryli się po jaskiniach, Egipt - już posiadał wysoką organizację społeczną, rolnictwo, rzemiosła i literaturę. Nade wszystko zaś wykonywał olbrzymie prace inżynierskie i wznosił kolosalne budowle, których szczątki budzą podziw w technikach nowożytnych.\n",
      "\n",
      "Egipt - jest to żyzny wąwóz między pustynią Libijską i Arabską. Głębokość jego wynosi kilkaset metrów, długość sto trzydzieści mil, średnia szerokość zaledwo milę. Od zachodu - łagodne, ale nagie wzgórza libijskie, od wschodu strome i popękane skały arabskie są ścianami tego korytarza, którego dnem płynie rzeka - Nil.\n",
      "\n",
      "Z biegiem rzeki, na północ, ściany wąwozu zniżają się, a w odległości dwudziestu pięciu mil od Morza Śródziemnego nagle rozchodzą się, i Nil, zamiast płynąć ciasnym korytarzem, rozlewa się kilkoma ramionami po obszernej równinie mającej kształt trójkąta. Trójkąt ten, zwany Deltą Nilową, ma za podstawę brzeg Morza Śródziemnego, zaś u wierzchołka, przy wyjściu rzeki z wąwozu, miasto Kair tudzież gruzy przedwiekowej stolicy, Memfisu.\n",
      "\n",
      "Gdyby kto mógł wznieść się o dwadzieścia mil w górę i stamtąd spojrzeć na Egipt, zobaczyłby dziwną formę kraju i osobliwe zmiany jego koloru. Z tej wysokości, na tle białych i pomarańczowych piasków, Egipt wyglądałby jak wąż, który w energicznych skrętach posuwa się przez pustynię do Morza Śródziemnego i - już zanurzył w nim trójkątną głowę, ozdobioną dwojgiem oczu: lewym - Aleksandrią, prawym - Damiettą.\n",
      "\n",
      "Długi ten wąż w październiku, kiedy Nil zalewa cały Egipt, miałby błękitną barwę wody. W lutym, kiedy miejsce opadających wód zajmuje wiosenna roślinność, wąż byłby zielony, z błękitną pręgą wzdłuż ciała i mnóstwem błękitnych żyłek na głowie, z powodu kanałów, które przecinają Deltę. W marcu błękitna pręga zwęziłaby się, a ciało węża, skutkiem dojrzewani\n"
     ]
    }
   ],
   "source": [
    "print(decoded_text[:2000])"
   ]
  },
  {
   "cell_type": "markdown",
   "metadata": {},
   "source": [
    "### Książka to \"Faraon\" Bolesława Prusa"
   ]
  },
  {
   "cell_type": "markdown",
   "metadata": {},
   "source": [
    "## Zadanie 4 (2 pkt.)"
   ]
  },
  {
   "cell_type": "markdown",
   "metadata": {},
   "source": [
    "Napisz dwie funkcje, szyfrującą i deszyfrującą, dla szyfru Vignere'a. Funkcja **Vignere_zaszyfruj(tekst, klucz)** przyjmuje jako argumenty tekst do zaszyfrowania oraz klucz w postaci słowa. Podobnie funkcja **Vignere_odszyfruj(tekst, klucz)** przyjmuje jako argumenty tekst zaszyfrowany oraz klucz w postaci słowa. Może być przydatne skorzystanie z zamiany liter na liczby (tzn. na liczby określające pozycję litery w alfabecie):"
   ]
  },
  {
   "cell_type": "code",
   "execution_count": 147,
   "metadata": {},
   "outputs": [],
   "source": [
    "liczb_do_lit=dict()\n",
    "lit_do_liczb=dict()\n",
    "for i,l in enumerate(alfabet):\n",
    "    liczb_do_lit[i]=l\n",
    "    lit_do_liczb[l]=i"
   ]
  },
  {
   "cell_type": "code",
   "execution_count": 162,
   "metadata": {},
   "outputs": [],
   "source": [
    "def Vignere_zaszyfruj(tekst,klucz):\n",
    "    klucz = klucz.lower()\n",
    "    szyfrogram = \"\"\n",
    "    n = len(klucz)\n",
    "    m = len(alfabet)\n",
    "    i =0\n",
    "    for c in tekst:\n",
    "        if c in string.digits or c in string.whitespace or c in string.punctuation:\n",
    "            szyfrogram += c\n",
    "            continue\n",
    "        if c.lower() in lit_do_liczb:\n",
    "            isUpper = False\n",
    "            if c.isupper():\n",
    "                isUpper = True\n",
    "            idx_c = lit_do_liczb[c.lower()]\n",
    "            idx_k = lit_do_liczb[klucz[i % n]]\n",
    "            litera = liczb_do_lit[(idx_c + idx_k) % m]\n",
    "            if isUpper:\n",
    "                litera = litera.upper()\n",
    "            szyfrogram += litera\n",
    "            i+=1\n",
    "        else:\n",
    "            szyfrogram += c    \n",
    "    return szyfrogram"
   ]
  },
  {
   "cell_type": "code",
   "execution_count": 166,
   "metadata": {},
   "outputs": [],
   "source": [
    "def Vignere_odszyfruj(tekst,klucz):\n",
    "    klucz = klucz.lower()\n",
    "    szyfrogram = \"\"\n",
    "    n = len(klucz)\n",
    "    m = len(alfabet)\n",
    "    i = 0\n",
    "    for c in tekst:\n",
    "        if c in string.digits or c in string.whitespace or c in string.punctuation:\n",
    "            szyfrogram += c\n",
    "            continue\n",
    "        if c.lower() in lit_do_liczb:\n",
    "            isUpper = False\n",
    "            if c.isupper():\n",
    "                isUpper = True\n",
    "            idx_c = lit_do_liczb[c.lower()]\n",
    "            idx_k = lit_do_liczb[klucz[i % n]]\n",
    "            litera = liczb_do_lit[(idx_c - idx_k) % m]\n",
    "            if isUpper:\n",
    "                litera = litera.upper()\n",
    "            szyfrogram += litera\n",
    "            i += 1\n",
    "        else:\n",
    "            szyfrogram += c\n",
    "    return szyfrogram"
   ]
  },
  {
   "cell_type": "code",
   "execution_count": 167,
   "metadata": {},
   "outputs": [
    {
     "name": "stdout",
     "output_type": "stream",
     "text": [
      "True\n",
      "True\n",
      "True\n",
      "True\n",
      "True\n",
      "True\n",
      "True\n",
      "True\n"
     ]
    }
   ],
   "source": [
    "print(Vignere_zaszyfruj('Ala ma kota.','ela')=='Eva ql kśda.')\n",
    "print(Vignere_zaszyfruj('Ala ma kota.','tygrys')=='Thg ćy bhqg.')\n",
    "print(Vignere_zaszyfruj('Ala ma 2 koty.','indywidualistyczny')=='Iyd jw 2 ssńy.')\n",
    "print(Vignere_zaszyfruj('Daremne żale, próżny trud,\\nBezsilne złorzeczenia!\\nPrzeżytych kształtów żaden cud\\nNie wróci do istnienia.','asnyk')\n",
    "                  =='Dsdbwnx myue, hdmjnó fodd,\\nTrvbicżb hłfdvocprksa!\\nHdvożófumh bevćaćfmę żsqbx cmq\\nKse ńdmmi wą ębtevbxis.')\n",
    "print(Vignere_odszyfruj('Eva ql kśda.','ela')=='Ala ma kota.')\n",
    "print(Vignere_odszyfruj('Thg ćy bhqg.','tygrys')=='Ala ma kota.')\n",
    "print(Vignere_odszyfruj('Iyd jw 2 ssńy.','indywidualistyczny')=='Ala ma 2 koty.')\n",
    "print(Vignere_odszyfruj('Dsdbwnx myue, hdmjnó fodd,\\nTrvbicżb hłfdvocprksa!\\nHdvożófumh bevćaćfmę żsqbx cmq\\nKse ńdmmi wą ębtevbxis.','asnyk')\n",
    "                  =='Daremne żale, próżny trud,\\nBezsilne złorzeczenia!\\nPrzeżytych kształtów żaden cud\\nNie wróci do istnienia.')"
   ]
  },
  {
   "cell_type": "markdown",
   "metadata": {},
   "source": [
    "## Zadanie 5 (2 pkt.)"
   ]
  },
  {
   "cell_type": "markdown",
   "metadata": {},
   "source": [
    "Plik **'ksiazka2.txt'** zawiera tekst pewnej książki zaszyfrowany metodą Vignere'a. Dokonaj analizy statystycznej liter i na tej podstawie znajdź klucz oraz odszyfruj tekst. Jaka to książka?\n",
    "\n",
    "Wskazówka I: Zauważ, że w metodzie Vignere'a co $n$-ta litera (gdzie $n$ to długość klucza) jest zaszyfrowana metodą Cezara.\n",
    "\n",
    "Wskazówka II: Najpierw ustal długość klucza $n$.\n",
    "\n",
    "Do wczytania pliku możesz użyć poniższego kodu."
   ]
  },
  {
   "cell_type": "code",
   "execution_count": 168,
   "metadata": {},
   "outputs": [],
   "source": [
    "plik=open('ksiazka2.txt', encoding='utf8')\n",
    "ksiazka=plik.read()\n",
    "plik.close()"
   ]
  }
 ],
 "metadata": {
  "kernelspec": {
   "display_name": "base",
   "language": "python",
   "name": "python3"
  },
  "language_info": {
   "codemirror_mode": {
    "name": "ipython",
    "version": 3
   },
   "file_extension": ".py",
   "mimetype": "text/x-python",
   "name": "python",
   "nbconvert_exporter": "python",
   "pygments_lexer": "ipython3",
   "version": "3.8.8"
  }
 },
 "nbformat": 4,
 "nbformat_minor": 4
}
